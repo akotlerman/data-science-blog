{
 "cells": [
  {
   "cell_type": "markdown",
   "metadata": {},
   "source": [
    "# Age of contracts\n",
    "\n",
    "Something that will be useful later will be the average age of contracts"
   ]
  },
  {
   "cell_type": "code",
   "execution_count": 1,
   "metadata": {},
   "outputs": [
    {
     "data": {
      "text/html": [
       "<script>requirejs.config({paths: { 'plotly': ['https://cdn.plot.ly/plotly-latest.min']},});if(!window.Plotly) {{require(['plotly'],function(plotly) {window.Plotly=plotly;});}}</script>"
      ],
      "text/vnd.plotly.v1+html": [
       "<script>requirejs.config({paths: { 'plotly': ['https://cdn.plot.ly/plotly-latest.min']},});if(!window.Plotly) {{require(['plotly'],function(plotly) {window.Plotly=plotly;});}}</script>"
      ]
     },
     "metadata": {},
     "output_type": "display_data"
    },
    {
     "data": {
      "text/html": [
       "<script>requirejs.config({paths: { 'plotly': ['https://cdn.plot.ly/plotly-latest.min']},});if(!window.Plotly) {{require(['plotly'],function(plotly) {window.Plotly=plotly;});}}</script>"
      ],
      "text/vnd.plotly.v1+html": [
       "<script>requirejs.config({paths: { 'plotly': ['https://cdn.plot.ly/plotly-latest.min']},});if(!window.Plotly) {{require(['plotly'],function(plotly) {window.Plotly=plotly;});}}</script>"
      ]
     },
     "metadata": {},
     "output_type": "display_data"
    },
    {
     "data": {
      "text/html": [
       "<div>\n",
       "<style scoped>\n",
       "    .dataframe tbody tr th:only-of-type {\n",
       "        vertical-align: middle;\n",
       "    }\n",
       "\n",
       "    .dataframe tbody tr th {\n",
       "        vertical-align: top;\n",
       "    }\n",
       "\n",
       "    .dataframe thead th {\n",
       "        text-align: right;\n",
       "    }\n",
       "</style>\n",
       "<table border=\"1\" class=\"dataframe\">\n",
       "  <thead>\n",
       "    <tr style=\"text-align: right;\">\n",
       "      <th></th>\n",
       "      <th>date</th>\n",
       "      <th>open</th>\n",
       "      <th>high</th>\n",
       "      <th>low</th>\n",
       "      <th>close</th>\n",
       "      <th>volume</th>\n",
       "      <th>openint</th>\n",
       "      <th>contract_name</th>\n",
       "      <th>year</th>\n",
       "      <th>month</th>\n",
       "      <th>day</th>\n",
       "      <th>contract_symbol</th>\n",
       "      <th>contract_year</th>\n",
       "      <th>contract_month</th>\n",
       "    </tr>\n",
       "    <tr>\n",
       "      <th>index</th>\n",
       "      <th></th>\n",
       "      <th></th>\n",
       "      <th></th>\n",
       "      <th></th>\n",
       "      <th></th>\n",
       "      <th></th>\n",
       "      <th></th>\n",
       "      <th></th>\n",
       "      <th></th>\n",
       "      <th></th>\n",
       "      <th></th>\n",
       "      <th></th>\n",
       "      <th></th>\n",
       "      <th></th>\n",
       "    </tr>\n",
       "  </thead>\n",
       "  <tbody>\n",
       "    <tr>\n",
       "      <th>0</th>\n",
       "      <td>1983-03-30</td>\n",
       "      <td>29.01</td>\n",
       "      <td>29.56</td>\n",
       "      <td>29.01</td>\n",
       "      <td>29.40</td>\n",
       "      <td>949</td>\n",
       "      <td>470</td>\n",
       "      <td>CL1983-06</td>\n",
       "      <td>1983</td>\n",
       "      <td>3</td>\n",
       "      <td>30</td>\n",
       "      <td>CL</td>\n",
       "      <td>1983</td>\n",
       "      <td>6</td>\n",
       "    </tr>\n",
       "    <tr>\n",
       "      <th>1</th>\n",
       "      <td>1983-03-31</td>\n",
       "      <td>29.40</td>\n",
       "      <td>29.60</td>\n",
       "      <td>29.25</td>\n",
       "      <td>29.29</td>\n",
       "      <td>521</td>\n",
       "      <td>523</td>\n",
       "      <td>CL1983-06</td>\n",
       "      <td>1983</td>\n",
       "      <td>3</td>\n",
       "      <td>31</td>\n",
       "      <td>CL</td>\n",
       "      <td>1983</td>\n",
       "      <td>6</td>\n",
       "    </tr>\n",
       "    <tr>\n",
       "      <th>2</th>\n",
       "      <td>1983-04-04</td>\n",
       "      <td>29.30</td>\n",
       "      <td>29.70</td>\n",
       "      <td>29.29</td>\n",
       "      <td>29.44</td>\n",
       "      <td>156</td>\n",
       "      <td>583</td>\n",
       "      <td>CL1983-06</td>\n",
       "      <td>1983</td>\n",
       "      <td>4</td>\n",
       "      <td>4</td>\n",
       "      <td>CL</td>\n",
       "      <td>1983</td>\n",
       "      <td>6</td>\n",
       "    </tr>\n",
       "    <tr>\n",
       "      <th>3</th>\n",
       "      <td>1983-04-05</td>\n",
       "      <td>29.50</td>\n",
       "      <td>29.80</td>\n",
       "      <td>29.50</td>\n",
       "      <td>29.71</td>\n",
       "      <td>175</td>\n",
       "      <td>623</td>\n",
       "      <td>CL1983-06</td>\n",
       "      <td>1983</td>\n",
       "      <td>4</td>\n",
       "      <td>5</td>\n",
       "      <td>CL</td>\n",
       "      <td>1983</td>\n",
       "      <td>6</td>\n",
       "    </tr>\n",
       "    <tr>\n",
       "      <th>4</th>\n",
       "      <td>1983-04-06</td>\n",
       "      <td>29.90</td>\n",
       "      <td>29.92</td>\n",
       "      <td>29.65</td>\n",
       "      <td>29.90</td>\n",
       "      <td>392</td>\n",
       "      <td>640</td>\n",
       "      <td>CL1983-06</td>\n",
       "      <td>1983</td>\n",
       "      <td>4</td>\n",
       "      <td>6</td>\n",
       "      <td>CL</td>\n",
       "      <td>1983</td>\n",
       "      <td>6</td>\n",
       "    </tr>\n",
       "  </tbody>\n",
       "</table>\n",
       "</div>"
      ],
      "text/plain": [
       "            date   open   high    low  close  volume  openint contract_name  \\\n",
       "index                                                                         \n",
       "0     1983-03-30  29.01  29.56  29.01  29.40     949      470     CL1983-06   \n",
       "1     1983-03-31  29.40  29.60  29.25  29.29     521      523     CL1983-06   \n",
       "2     1983-04-04  29.30  29.70  29.29  29.44     156      583     CL1983-06   \n",
       "3     1983-04-05  29.50  29.80  29.50  29.71     175      623     CL1983-06   \n",
       "4     1983-04-06  29.90  29.92  29.65  29.90     392      640     CL1983-06   \n",
       "\n",
       "       year  month  day contract_symbol  contract_year  contract_month  \n",
       "index                                                                   \n",
       "0      1983      3   30              CL           1983               6  \n",
       "1      1983      3   31              CL           1983               6  \n",
       "2      1983      4    4              CL           1983               6  \n",
       "3      1983      4    5              CL           1983               6  \n",
       "4      1983      4    6              CL           1983               6  "
      ]
     },
     "execution_count": 1,
     "metadata": {},
     "output_type": "execute_result"
    }
   ],
   "source": [
    "from datetime import date, datetime, timedelta\n",
    "from copy import copy\n",
    "import numpy as np\n",
    "import pandas as pd\n",
    "import sqlalchemy as sa\n",
    "from plotly.offline import download_plotlyjs, init_notebook_mode, iplot\n",
    "from plotly.graph_objs import Scatter, Figure, Layout, Histogram, Heatmap\n",
    "from plotly import tools\n",
    "init_notebook_mode(connected=True)\n",
    "\n",
    "# Custom functions for data exchange\n",
    "from utils.data_utils import update_data, df_from_table, gen_datetime_col\n",
    "\n",
    "# Custom plotting\n",
    "from utils.plot_utils import plot, plot_subplot\n",
    "\n",
    "# Create a database file using sqlite through sqlalchemy\n",
    "engine = sa.create_engine('sqlite:///cl_basic_data_analysis.db')\n",
    "\n",
    "# Grab our data again. \n",
    "df_query = df_from_table('cl_data', engine, 'index')\n",
    "df_query.head()"
   ]
  },
  {
   "cell_type": "code",
   "execution_count": 46,
   "metadata": {},
   "outputs": [],
   "source": [
    "g = df_query[['contract_name', 'date']].groupby('contract_name')\n",
    "ages = (g.max()-g.min())\n",
    "ages['date'] = ages['date'].map(lambda x: x.days)\n",
    "ages.rename(columns={'date': 'age'}, inplace=True)\n",
    "ages['year'] = ages.index.map(lambda x: int(x[2:6]))\n",
    "# Filter future years\n",
    "ages = ages[ages['year'] < 2017]"
   ]
  },
  {
   "cell_type": "code",
   "execution_count": 47,
   "metadata": {},
   "outputs": [
    {
     "data": {
      "application/vnd.plotly.v1+json": {
       "data": [
        {
         "hoverinfo": "skip",
         "type": "scatter",
         "x": [
          1983,
          1984,
          1985,
          1986,
          1987,
          1988,
          1989,
          1990,
          1991,
          1992,
          1993,
          1994,
          1995,
          1996,
          1997,
          1998,
          1999,
          2000,
          2001,
          2002,
          2003,
          2004,
          2005,
          2006,
          2007,
          2008,
          2009,
          2010,
          2011,
          2012,
          2013,
          2014,
          2015,
          2016
         ],
         "y": [
          140.28571428571428,
          240.16666666666666,
          336.25,
          439.5,
          340,
          316.9166666666667,
          346.9166666666667,
          410.3333333333333,
          530.9166666666666,
          567.6666666666666,
          648.4166666666666,
          664.5,
          660.75,
          664.6666666666666,
          720.9166666666666,
          922.1666666666666,
          959.25,
          935.75,
          967.3333333333334,
          997.0833333333334,
          1027.4166666666667,
          1033.5833333333333,
          1034.0833333333333,
          1033.5833333333333,
          1031.75,
          1053.0833333333333,
          1309.5,
          1644.3333333333333,
          1978.5,
          2054.3333333333335,
          2061.9166666666665,
          2120.1666666666665,
          2179.0833333333335,
          2205.6666666666665
         ]
        }
       ],
       "layout": {
        "legend": {
         "orientation": "h"
        },
        "showlegend": false,
        "title": "Average age of contracts by year",
        "xaxis": {
         "fixedrange": true
        },
        "yaxis": {
         "fixedrange": true
        }
       }
      },
      "text/html": [
       "<div id=\"dbc5128d-bca1-4562-9559-62ee6e66bed2\" style=\"height: 525px; width: 100%;\" class=\"plotly-graph-div\"></div><script type=\"text/javascript\">require([\"plotly\"], function(Plotly) { window.PLOTLYENV=window.PLOTLYENV || {};window.PLOTLYENV.BASE_URL=\"https://plot.ly\";Plotly.newPlot(\"dbc5128d-bca1-4562-9559-62ee6e66bed2\", [{\"type\": \"scatter\", \"x\": [1983, 1984, 1985, 1986, 1987, 1988, 1989, 1990, 1991, 1992, 1993, 1994, 1995, 1996, 1997, 1998, 1999, 2000, 2001, 2002, 2003, 2004, 2005, 2006, 2007, 2008, 2009, 2010, 2011, 2012, 2013, 2014, 2015, 2016], \"y\": [140.28571428571428, 240.16666666666666, 336.25, 439.5, 340.0, 316.9166666666667, 346.9166666666667, 410.3333333333333, 530.9166666666666, 567.6666666666666, 648.4166666666666, 664.5, 660.75, 664.6666666666666, 720.9166666666666, 922.1666666666666, 959.25, 935.75, 967.3333333333334, 997.0833333333334, 1027.4166666666667, 1033.5833333333333, 1034.0833333333333, 1033.5833333333333, 1031.75, 1053.0833333333333, 1309.5, 1644.3333333333333, 1978.5, 2054.3333333333335, 2061.9166666666665, 2120.1666666666665, 2179.0833333333335, 2205.6666666666665], \"hoverinfo\": \"skip\"}], {\"title\": \"Average age of contracts by year\", \"legend\": {\"orientation\": \"h\"}, \"showlegend\": false, \"xaxis\": {\"fixedrange\": true}, \"yaxis\": {\"fixedrange\": true}}, {\"showLink\": false, \"linkText\": \"Export to plot.ly\", \"displayModeBar\": false})});</script>"
      ],
      "text/vnd.plotly.v1+html": [
       "<div id=\"dbc5128d-bca1-4562-9559-62ee6e66bed2\" style=\"height: 525px; width: 100%;\" class=\"plotly-graph-div\"></div><script type=\"text/javascript\">require([\"plotly\"], function(Plotly) { window.PLOTLYENV=window.PLOTLYENV || {};window.PLOTLYENV.BASE_URL=\"https://plot.ly\";Plotly.newPlot(\"dbc5128d-bca1-4562-9559-62ee6e66bed2\", [{\"type\": \"scatter\", \"x\": [1983, 1984, 1985, 1986, 1987, 1988, 1989, 1990, 1991, 1992, 1993, 1994, 1995, 1996, 1997, 1998, 1999, 2000, 2001, 2002, 2003, 2004, 2005, 2006, 2007, 2008, 2009, 2010, 2011, 2012, 2013, 2014, 2015, 2016], \"y\": [140.28571428571428, 240.16666666666666, 336.25, 439.5, 340.0, 316.9166666666667, 346.9166666666667, 410.3333333333333, 530.9166666666666, 567.6666666666666, 648.4166666666666, 664.5, 660.75, 664.6666666666666, 720.9166666666666, 922.1666666666666, 959.25, 935.75, 967.3333333333334, 997.0833333333334, 1027.4166666666667, 1033.5833333333333, 1034.0833333333333, 1033.5833333333333, 1031.75, 1053.0833333333333, 1309.5, 1644.3333333333333, 1978.5, 2054.3333333333335, 2061.9166666666665, 2120.1666666666665, 2179.0833333333335, 2205.6666666666665], \"hoverinfo\": \"skip\"}], {\"title\": \"Average age of contracts by year\", \"legend\": {\"orientation\": \"h\"}, \"showlegend\": false, \"xaxis\": {\"fixedrange\": true}, \"yaxis\": {\"fixedrange\": true}}, {\"showLink\": false, \"linkText\": \"Export to plot.ly\", \"displayModeBar\": false})});</script>"
      ]
     },
     "metadata": {},
     "output_type": "display_data"
    }
   ],
   "source": [
    "age_by_year = ages.groupby('year').mean()\n",
    "data=[Scatter(x=age_by_year.index, y=age_by_year.age)]\n",
    "plot(data, title='Average age of contracts by year', show_legend=False)"
   ]
  },
  {
   "cell_type": "code",
   "execution_count": 48,
   "metadata": {},
   "outputs": [
    {
     "data": {
      "text/html": [
       "<div>\n",
       "<style scoped>\n",
       "    .dataframe tbody tr th:only-of-type {\n",
       "        vertical-align: middle;\n",
       "    }\n",
       "\n",
       "    .dataframe tbody tr th {\n",
       "        vertical-align: top;\n",
       "    }\n",
       "\n",
       "    .dataframe thead th {\n",
       "        text-align: right;\n",
       "    }\n",
       "</style>\n",
       "<table border=\"1\" class=\"dataframe\">\n",
       "  <thead>\n",
       "    <tr style=\"text-align: right;\">\n",
       "      <th></th>\n",
       "      <th>age</th>\n",
       "    </tr>\n",
       "    <tr>\n",
       "      <th>year</th>\n",
       "      <th></th>\n",
       "    </tr>\n",
       "  </thead>\n",
       "  <tbody>\n",
       "    <tr>\n",
       "      <th>2012</th>\n",
       "      <td>2054.333333</td>\n",
       "    </tr>\n",
       "    <tr>\n",
       "      <th>2013</th>\n",
       "      <td>2061.916667</td>\n",
       "    </tr>\n",
       "    <tr>\n",
       "      <th>2014</th>\n",
       "      <td>2120.166667</td>\n",
       "    </tr>\n",
       "    <tr>\n",
       "      <th>2015</th>\n",
       "      <td>2179.083333</td>\n",
       "    </tr>\n",
       "    <tr>\n",
       "      <th>2016</th>\n",
       "      <td>2205.666667</td>\n",
       "    </tr>\n",
       "  </tbody>\n",
       "</table>\n",
       "</div>"
      ],
      "text/plain": [
       "              age\n",
       "year             \n",
       "2012  2054.333333\n",
       "2013  2061.916667\n",
       "2014  2120.166667\n",
       "2015  2179.083333\n",
       "2016  2205.666667"
      ]
     },
     "execution_count": 48,
     "metadata": {},
     "output_type": "execute_result"
    }
   ],
   "source": [
    "age_by_year.tail()"
   ]
  },
  {
   "cell_type": "code",
   "execution_count": 72,
   "metadata": {},
   "outputs": [
    {
     "data": {
      "application/vnd.plotly.v1+json": {
       "data": [
        {
         "hoverinfo": "skip",
         "type": "scatter",
         "x": [
          "2012-01-31",
          "2012-02-29",
          "2012-03-31",
          "2012-04-30",
          "2012-05-31",
          "2012-06-30",
          "2012-07-31",
          "2012-08-31",
          "2012-09-30",
          "2012-10-31",
          "2012-11-30",
          "2012-12-31",
          "2013-01-31",
          "2013-02-28",
          "2013-03-31",
          "2013-04-30",
          "2013-05-31",
          "2013-06-30",
          "2013-07-31",
          "2013-08-31",
          "2013-09-30",
          "2013-10-31",
          "2013-11-30",
          "2013-12-31",
          "2014-01-31",
          "2014-02-28",
          "2014-03-31",
          "2014-04-30",
          "2014-05-31",
          "2014-06-30",
          "2014-07-31",
          "2014-08-31",
          "2014-09-30",
          "2014-10-31",
          "2014-11-30",
          "2014-12-31",
          "2015-01-31",
          "2015-02-28",
          "2015-03-31",
          "2015-04-30",
          "2015-05-31",
          "2015-06-30",
          "2015-07-31",
          "2015-08-31",
          "2015-09-30",
          "2015-10-31",
          "2015-11-30",
          "2015-12-31",
          "2016-01-31",
          "2016-02-29",
          "2016-03-31",
          "2016-04-30",
          "2016-05-31",
          "2016-06-30",
          "2016-07-31",
          "2016-08-31",
          "2016-09-30",
          "2016-10-31",
          "2016-11-30",
          "2016-12-31"
         ],
         "y": [
          1856,
          1887,
          1919,
          1947,
          1978,
          2010,
          2039,
          2069,
          2101,
          2131,
          2163,
          2552,
          1857,
          1891,
          1920,
          1948,
          1981,
          2227,
          2040,
          2072,
          2101,
          2132,
          2164,
          2410,
          1854,
          1887,
          1917,
          1945,
          1978,
          2591,
          2037,
          2069,
          2098,
          2131,
          2160,
          2775,
          1852,
          1884,
          1915,
          1943,
          1975,
          2955,
          2037,
          2066,
          2096,
          2129,
          2157,
          3140,
          1855,
          1885,
          1918,
          1946,
          1976,
          3105,
          2038,
          2067,
          2100,
          2129,
          2159,
          3290
         ]
        }
       ],
       "layout": {
        "legend": {
         "orientation": "h"
        },
        "showlegend": false,
        "title": "Average age of contracts by month between 2012 and 2017",
        "xaxis": {
         "fixedrange": true
        },
        "yaxis": {
         "fixedrange": true
        }
       }
      },
      "text/html": [
       "<div id=\"2d768063-1cef-4248-b43a-854be8b79da3\" style=\"height: 525px; width: 100%;\" class=\"plotly-graph-div\"></div><script type=\"text/javascript\">require([\"plotly\"], function(Plotly) { window.PLOTLYENV=window.PLOTLYENV || {};window.PLOTLYENV.BASE_URL=\"https://plot.ly\";Plotly.newPlot(\"2d768063-1cef-4248-b43a-854be8b79da3\", [{\"type\": \"scatter\", \"x\": [\"2012-01-31\", \"2012-02-29\", \"2012-03-31\", \"2012-04-30\", \"2012-05-31\", \"2012-06-30\", \"2012-07-31\", \"2012-08-31\", \"2012-09-30\", \"2012-10-31\", \"2012-11-30\", \"2012-12-31\", \"2013-01-31\", \"2013-02-28\", \"2013-03-31\", \"2013-04-30\", \"2013-05-31\", \"2013-06-30\", \"2013-07-31\", \"2013-08-31\", \"2013-09-30\", \"2013-10-31\", \"2013-11-30\", \"2013-12-31\", \"2014-01-31\", \"2014-02-28\", \"2014-03-31\", \"2014-04-30\", \"2014-05-31\", \"2014-06-30\", \"2014-07-31\", \"2014-08-31\", \"2014-09-30\", \"2014-10-31\", \"2014-11-30\", \"2014-12-31\", \"2015-01-31\", \"2015-02-28\", \"2015-03-31\", \"2015-04-30\", \"2015-05-31\", \"2015-06-30\", \"2015-07-31\", \"2015-08-31\", \"2015-09-30\", \"2015-10-31\", \"2015-11-30\", \"2015-12-31\", \"2016-01-31\", \"2016-02-29\", \"2016-03-31\", \"2016-04-30\", \"2016-05-31\", \"2016-06-30\", \"2016-07-31\", \"2016-08-31\", \"2016-09-30\", \"2016-10-31\", \"2016-11-30\", \"2016-12-31\"], \"y\": [1856, 1887, 1919, 1947, 1978, 2010, 2039, 2069, 2101, 2131, 2163, 2552, 1857, 1891, 1920, 1948, 1981, 2227, 2040, 2072, 2101, 2132, 2164, 2410, 1854, 1887, 1917, 1945, 1978, 2591, 2037, 2069, 2098, 2131, 2160, 2775, 1852, 1884, 1915, 1943, 1975, 2955, 2037, 2066, 2096, 2129, 2157, 3140, 1855, 1885, 1918, 1946, 1976, 3105, 2038, 2067, 2100, 2129, 2159, 3290], \"hoverinfo\": \"skip\"}], {\"title\": \"Average age of contracts by month between 2012 and 2017\", \"legend\": {\"orientation\": \"h\"}, \"showlegend\": false, \"xaxis\": {\"fixedrange\": true}, \"yaxis\": {\"fixedrange\": true}}, {\"showLink\": false, \"linkText\": \"Export to plot.ly\", \"displayModeBar\": false})});</script>"
      ],
      "text/vnd.plotly.v1+html": [
       "<div id=\"2d768063-1cef-4248-b43a-854be8b79da3\" style=\"height: 525px; width: 100%;\" class=\"plotly-graph-div\"></div><script type=\"text/javascript\">require([\"plotly\"], function(Plotly) { window.PLOTLYENV=window.PLOTLYENV || {};window.PLOTLYENV.BASE_URL=\"https://plot.ly\";Plotly.newPlot(\"2d768063-1cef-4248-b43a-854be8b79da3\", [{\"type\": \"scatter\", \"x\": [\"2012-01-31\", \"2012-02-29\", \"2012-03-31\", \"2012-04-30\", \"2012-05-31\", \"2012-06-30\", \"2012-07-31\", \"2012-08-31\", \"2012-09-30\", \"2012-10-31\", \"2012-11-30\", \"2012-12-31\", \"2013-01-31\", \"2013-02-28\", \"2013-03-31\", \"2013-04-30\", \"2013-05-31\", \"2013-06-30\", \"2013-07-31\", \"2013-08-31\", \"2013-09-30\", \"2013-10-31\", \"2013-11-30\", \"2013-12-31\", \"2014-01-31\", \"2014-02-28\", \"2014-03-31\", \"2014-04-30\", \"2014-05-31\", \"2014-06-30\", \"2014-07-31\", \"2014-08-31\", \"2014-09-30\", \"2014-10-31\", \"2014-11-30\", \"2014-12-31\", \"2015-01-31\", \"2015-02-28\", \"2015-03-31\", \"2015-04-30\", \"2015-05-31\", \"2015-06-30\", \"2015-07-31\", \"2015-08-31\", \"2015-09-30\", \"2015-10-31\", \"2015-11-30\", \"2015-12-31\", \"2016-01-31\", \"2016-02-29\", \"2016-03-31\", \"2016-04-30\", \"2016-05-31\", \"2016-06-30\", \"2016-07-31\", \"2016-08-31\", \"2016-09-30\", \"2016-10-31\", \"2016-11-30\", \"2016-12-31\"], \"y\": [1856, 1887, 1919, 1947, 1978, 2010, 2039, 2069, 2101, 2131, 2163, 2552, 1857, 1891, 1920, 1948, 1981, 2227, 2040, 2072, 2101, 2132, 2164, 2410, 1854, 1887, 1917, 1945, 1978, 2591, 2037, 2069, 2098, 2131, 2160, 2775, 1852, 1884, 1915, 1943, 1975, 2955, 2037, 2066, 2096, 2129, 2157, 3140, 1855, 1885, 1918, 1946, 1976, 3105, 2038, 2067, 2100, 2129, 2159, 3290], \"hoverinfo\": \"skip\"}], {\"title\": \"Average age of contracts by month between 2012 and 2017\", \"legend\": {\"orientation\": \"h\"}, \"showlegend\": false, \"xaxis\": {\"fixedrange\": true}, \"yaxis\": {\"fixedrange\": true}}, {\"showLink\": false, \"linkText\": \"Export to plot.ly\", \"displayModeBar\": false})});</script>"
      ]
     },
     "metadata": {},
     "output_type": "display_data"
    }
   ],
   "source": [
    "ages['month'] = ages.index.map(lambda x: int(x[-2:]))\n",
    "ages['date'] = [pd.Timestamp(y, m, 1) for y, m in zip(ages['year'].values, ages['month'].values)]\n",
    "g = ages.set_index('date').groupby(pd.Grouper(freq='M'))\n",
    "age_by_month = g.mean()\n",
    "age_by_month_limited = age_by_month[age_by_month['year'] >= 2012]\n",
    "data=[Scatter(x=age_by_month_limited.index, y=age_by_month_limited.age)]\n",
    "plot(data, title='Average age of contracts by month between 2012 and 2017', show_legend=False)"
   ]
  }
 ],
 "metadata": {
  "kernelspec": {
   "display_name": "Python 3",
   "language": "python",
   "name": "python3"
  },
  "language_info": {
   "codemirror_mode": {
    "name": "ipython",
    "version": 3
   },
   "file_extension": ".py",
   "mimetype": "text/x-python",
   "name": "python",
   "nbconvert_exporter": "python",
   "pygments_lexer": "ipython3",
   "version": "3.6.3"
  }
 },
 "nbformat": 4,
 "nbformat_minor": 2
}

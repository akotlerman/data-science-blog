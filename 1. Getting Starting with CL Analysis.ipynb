{
 "cells": [
  {
   "cell_type": "markdown",
   "metadata": {},
   "source": [
    "# Crude oil basic data analysis"
   ]
  },
  {
   "cell_type": "markdown",
   "metadata": {},
   "source": [
    "## Data cleanup and storage.\n",
    "\n",
    "We will clean the data store it into a sqlite database. Usually I use Pandas to do my analysis and will do so here. Unfortunately, as we will see later, the amount of data in our database will explode and no longer fit in memroy. As a result using a relational database like Sqlite will help us do operations without running into huge performance problems.\n",
    "\n",
    "Using Sqlite is useful beacuse it saves the data in a coherent and safe way. This also means we need to either stick with its native language, SQL, or use a on-demand library like SqlAlchemy to process the data. "
   ]
  },
  {
   "cell_type": "code",
   "execution_count": 1,
   "metadata": {
    "ExecuteTime": {
     "end_time": "2017-10-12T22:12:20.002670Z",
     "start_time": "2017-10-12T22:12:19.075533Z"
    }
   },
   "outputs": [
    {
     "data": {
      "text/html": [
       "<script>requirejs.config({paths: { 'plotly': ['https://cdn.plot.ly/plotly-latest.min']},});if(!window.Plotly) {{require(['plotly'],function(plotly) {window.Plotly=plotly;});}}</script>"
      ],
      "text/vnd.plotly.v1+html": [
       "<script>requirejs.config({paths: { 'plotly': ['https://cdn.plot.ly/plotly-latest.min']},});if(!window.Plotly) {{require(['plotly'],function(plotly) {window.Plotly=plotly;});}}</script>"
      ]
     },
     "metadata": {},
     "output_type": "display_data"
    }
   ],
   "source": [
    "# Import our relevant libraries here\n",
    "# Try to keep them here instead of scattered all over the notebook....\n",
    "import pandas as pd  # For easy data manipulations\n",
    "from datetime import datetime, date  # For date and time functionality\n",
    "import sqlalchemy as sa  # For database functionality\n",
    "\n",
    "# import plotly files. These will help with plotting in an\n",
    "# interactive way. \n",
    "from plotly.offline import download_plotlyjs, init_notebook_mode, plot, iplot\n",
    "from plotly.graph_objs import Scatter, Figure, Layout, Histogram\n",
    "init_notebook_mode(connected=True)"
   ]
  },
  {
   "cell_type": "code",
   "execution_count": 213,
   "metadata": {
    "ExecuteTime": {
     "end_time": "2017-10-11T19:56:52.352858Z",
     "start_time": "2017-10-11T19:56:52.337232Z"
    }
   },
   "outputs": [],
   "source": [
    "# Create a database file using sqlite\n",
    "engine = sa.create_engine('sqlite:///cl_basic_data_analysis.db')\n",
    "# Make it easier to download data by making a generatic function\n",
    "def data_from_table(table_name, index_col=None):\n",
    "    return pd.read_sql_query('SELECT * FROM {}'.format(table_name), \n",
    "                             con=engine, index_col=index_col)"
   ]
  },
  {
   "cell_type": "code",
   "execution_count": 214,
   "metadata": {
    "ExecuteTime": {
     "end_time": "2017-10-11T19:56:58.105531Z",
     "start_time": "2017-10-11T19:56:53.023060Z"
    }
   },
   "outputs": [],
   "source": [
    "# Load the data and clean it a bit\n",
    "# The date is in a format that needs to be converted to a datetime object\n",
    "historic_data_file = 'Historic_Crude_Oil_Data.csv'\n",
    "pdf = pd.read_csv(historic_data_file, index_col=0)\n",
    "pdf['Date'] = pdf['Date'].map(lambda x: datetime.strptime(x, '%Y-%m-%d'))\n",
    "pdf.drop('FileName', axis=1, inplace=True)"
   ]
  },
  {
   "cell_type": "code",
   "execution_count": 215,
   "metadata": {
    "ExecuteTime": {
     "end_time": "2017-10-11T19:56:58.553517Z",
     "start_time": "2017-10-11T19:56:58.537891Z"
    },
    "scrolled": true
   },
   "outputs": [
    {
     "data": {
      "text/plain": [
       "Date             datetime64[ns]\n",
       "Open                    float64\n",
       "High                    float64\n",
       "Low                     float64\n",
       "Close                   float64\n",
       "Volume                    int64\n",
       "OpenInt                   int64\n",
       "contract_name            object\n",
       "dtype: object"
      ]
     },
     "execution_count": 215,
     "metadata": {},
     "output_type": "execute_result"
    }
   ],
   "source": [
    "# Look at the datatypes for this table\n",
    "pdf.dtypes"
   ]
  },
  {
   "cell_type": "code",
   "execution_count": 216,
   "metadata": {
    "ExecuteTime": {
     "end_time": "2017-10-11T19:56:59.139562Z",
     "start_time": "2017-10-11T19:56:59.108311Z"
    }
   },
   "outputs": [
    {
     "data": {
      "text/html": [
       "<div>\n",
       "<style>\n",
       "    .dataframe thead tr:only-child th {\n",
       "        text-align: right;\n",
       "    }\n",
       "\n",
       "    .dataframe thead th {\n",
       "        text-align: left;\n",
       "    }\n",
       "\n",
       "    .dataframe tbody tr th {\n",
       "        vertical-align: top;\n",
       "    }\n",
       "</style>\n",
       "<table border=\"1\" class=\"dataframe\">\n",
       "  <thead>\n",
       "    <tr style=\"text-align: right;\">\n",
       "      <th></th>\n",
       "      <th>Date</th>\n",
       "      <th>Open</th>\n",
       "      <th>High</th>\n",
       "      <th>Low</th>\n",
       "      <th>Close</th>\n",
       "      <th>Volume</th>\n",
       "      <th>OpenInt</th>\n",
       "      <th>contract_name</th>\n",
       "    </tr>\n",
       "  </thead>\n",
       "  <tbody>\n",
       "    <tr>\n",
       "      <th>0</th>\n",
       "      <td>1983-03-30</td>\n",
       "      <td>29.01</td>\n",
       "      <td>29.56</td>\n",
       "      <td>29.01</td>\n",
       "      <td>29.40</td>\n",
       "      <td>949</td>\n",
       "      <td>470</td>\n",
       "      <td>CL1983-06</td>\n",
       "    </tr>\n",
       "    <tr>\n",
       "      <th>1</th>\n",
       "      <td>1983-03-31</td>\n",
       "      <td>29.40</td>\n",
       "      <td>29.60</td>\n",
       "      <td>29.25</td>\n",
       "      <td>29.29</td>\n",
       "      <td>521</td>\n",
       "      <td>523</td>\n",
       "      <td>CL1983-06</td>\n",
       "    </tr>\n",
       "    <tr>\n",
       "      <th>2</th>\n",
       "      <td>1983-04-04</td>\n",
       "      <td>29.30</td>\n",
       "      <td>29.70</td>\n",
       "      <td>29.29</td>\n",
       "      <td>29.44</td>\n",
       "      <td>156</td>\n",
       "      <td>583</td>\n",
       "      <td>CL1983-06</td>\n",
       "    </tr>\n",
       "    <tr>\n",
       "      <th>3</th>\n",
       "      <td>1983-04-05</td>\n",
       "      <td>29.50</td>\n",
       "      <td>29.80</td>\n",
       "      <td>29.50</td>\n",
       "      <td>29.71</td>\n",
       "      <td>175</td>\n",
       "      <td>623</td>\n",
       "      <td>CL1983-06</td>\n",
       "    </tr>\n",
       "    <tr>\n",
       "      <th>4</th>\n",
       "      <td>1983-04-06</td>\n",
       "      <td>29.90</td>\n",
       "      <td>29.92</td>\n",
       "      <td>29.65</td>\n",
       "      <td>29.90</td>\n",
       "      <td>392</td>\n",
       "      <td>640</td>\n",
       "      <td>CL1983-06</td>\n",
       "    </tr>\n",
       "  </tbody>\n",
       "</table>\n",
       "</div>"
      ],
      "text/plain": [
       "        Date  Open  High   Low  Close  Volume  OpenInt contract_name\n",
       "0 1983-03-30 29.01 29.56 29.01  29.40     949      470     CL1983-06\n",
       "1 1983-03-31 29.40 29.60 29.25  29.29     521      523     CL1983-06\n",
       "2 1983-04-04 29.30 29.70 29.29  29.44     156      583     CL1983-06\n",
       "3 1983-04-05 29.50 29.80 29.50  29.71     175      623     CL1983-06\n",
       "4 1983-04-06 29.90 29.92 29.65  29.90     392      640     CL1983-06"
      ]
     },
     "execution_count": 216,
     "metadata": {},
     "output_type": "execute_result"
    }
   ],
   "source": [
    "# Look at some data\n",
    "pdf.head()"
   ]
  },
  {
   "cell_type": "code",
   "execution_count": 217,
   "metadata": {
    "ExecuteTime": {
     "end_time": "2017-10-11T19:56:59.840156Z",
     "start_time": "2017-10-11T19:56:59.670641Z"
    }
   },
   "outputs": [
    {
     "data": {
      "text/html": [
       "<div>\n",
       "<style>\n",
       "    .dataframe thead tr:only-child th {\n",
       "        text-align: right;\n",
       "    }\n",
       "\n",
       "    .dataframe thead th {\n",
       "        text-align: left;\n",
       "    }\n",
       "\n",
       "    .dataframe tbody tr th {\n",
       "        vertical-align: top;\n",
       "    }\n",
       "</style>\n",
       "<table border=\"1\" class=\"dataframe\">\n",
       "  <thead>\n",
       "    <tr style=\"text-align: right;\">\n",
       "      <th></th>\n",
       "      <th>Open</th>\n",
       "      <th>High</th>\n",
       "      <th>Low</th>\n",
       "      <th>Close</th>\n",
       "      <th>Volume</th>\n",
       "      <th>OpenInt</th>\n",
       "    </tr>\n",
       "  </thead>\n",
       "  <tbody>\n",
       "    <tr>\n",
       "      <th>count</th>\n",
       "      <td>347,810.00</td>\n",
       "      <td>347,810.00</td>\n",
       "      <td>347,810.00</td>\n",
       "      <td>347,810.00</td>\n",
       "      <td>347,810.00</td>\n",
       "      <td>347,810.00</td>\n",
       "    </tr>\n",
       "    <tr>\n",
       "      <th>mean</th>\n",
       "      <td>56.71</td>\n",
       "      <td>56.85</td>\n",
       "      <td>56.55</td>\n",
       "      <td>56.71</td>\n",
       "      <td>7,324.99</td>\n",
       "      <td>18,622.32</td>\n",
       "    </tr>\n",
       "    <tr>\n",
       "      <th>std</th>\n",
       "      <td>30.60</td>\n",
       "      <td>30.65</td>\n",
       "      <td>30.54</td>\n",
       "      <td>30.60</td>\n",
       "      <td>37,950.87</td>\n",
       "      <td>45,760.48</td>\n",
       "    </tr>\n",
       "    <tr>\n",
       "      <th>min</th>\n",
       "      <td>10.00</td>\n",
       "      <td>10.65</td>\n",
       "      <td>9.75</td>\n",
       "      <td>10.42</td>\n",
       "      <td>0.00</td>\n",
       "      <td>0.00</td>\n",
       "    </tr>\n",
       "    <tr>\n",
       "      <th>25%</th>\n",
       "      <td>23.05</td>\n",
       "      <td>23.09</td>\n",
       "      <td>22.99</td>\n",
       "      <td>23.04</td>\n",
       "      <td>0.00</td>\n",
       "      <td>105.25</td>\n",
       "    </tr>\n",
       "    <tr>\n",
       "      <th>50%</th>\n",
       "      <td>58.79</td>\n",
       "      <td>59.00</td>\n",
       "      <td>58.55</td>\n",
       "      <td>58.78</td>\n",
       "      <td>10.00</td>\n",
       "      <td>2,929.00</td>\n",
       "    </tr>\n",
       "    <tr>\n",
       "      <th>75%</th>\n",
       "      <td>84.86</td>\n",
       "      <td>84.95</td>\n",
       "      <td>84.76</td>\n",
       "      <td>84.87</td>\n",
       "      <td>982.00</td>\n",
       "      <td>15,752.00</td>\n",
       "    </tr>\n",
       "    <tr>\n",
       "      <th>max</th>\n",
       "      <td>148.00</td>\n",
       "      <td>148.60</td>\n",
       "      <td>146.86</td>\n",
       "      <td>146.94</td>\n",
       "      <td>1,311,000.00</td>\n",
       "      <td>642,793.00</td>\n",
       "    </tr>\n",
       "  </tbody>\n",
       "</table>\n",
       "</div>"
      ],
      "text/plain": [
       "            Open       High        Low      Close       Volume    OpenInt\n",
       "count 347,810.00 347,810.00 347,810.00 347,810.00   347,810.00 347,810.00\n",
       "mean       56.71      56.85      56.55      56.71     7,324.99  18,622.32\n",
       "std        30.60      30.65      30.54      30.60    37,950.87  45,760.48\n",
       "min        10.00      10.65       9.75      10.42         0.00       0.00\n",
       "25%        23.05      23.09      22.99      23.04         0.00     105.25\n",
       "50%        58.79      59.00      58.55      58.78        10.00   2,929.00\n",
       "75%        84.86      84.95      84.76      84.87       982.00  15,752.00\n",
       "max       148.00     148.60     146.86     146.94 1,311,000.00 642,793.00"
      ]
     },
     "execution_count": 217,
     "metadata": {},
     "output_type": "execute_result"
    }
   ],
   "source": [
    "# We can look at the data an see a few basic trends using the describe tool\n",
    "# that comes with Pandas\n",
    "pdf.describe()"
   ]
  },
  {
   "cell_type": "code",
   "execution_count": 221,
   "metadata": {
    "ExecuteTime": {
     "end_time": "2017-10-11T19:57:43.340591Z",
     "start_time": "2017-10-11T19:57:36.797604Z"
    }
   },
   "outputs": [],
   "source": [
    "def update_cl_data(pdf, table_name, index_name=None):\n",
    "    \"\"\"\n",
    "    This function will delete an old database and create a new one\n",
    "    in its place. Instead of updating, we wipe the data because we\n",
    "    naiively do not know if the table has updated columns.\n",
    "    BE CAREFUL! Do not run this accidently with other dataframes. \n",
    "    \"\"\"\n",
    "\n",
    "    try:\n",
    "        # Connect to the database\n",
    "        conn = engine.connect()  \n",
    "        # Use metadata to keep track of database information\n",
    "        metadata = sa.MetaData(bind=conn)  \n",
    "        # Get database information using reflect function\n",
    "        metadata.reflect()  \n",
    "        if 'cl_data' in metadata.tables:\n",
    "            # Drop table so that we don't make duplicates\n",
    "            conn.execute('DROP TABLE {}'.format(table_name))  \n",
    "        if index_name is not None:\n",
    "            # Make sure index column is named for comparing  \n",
    "            # data moved to and from database.\n",
    "            # Pandas doesn't require a named index but \n",
    "            # SQL databases do. \n",
    "            pdf.index.name = 'index'  \n",
    "                                      \n",
    "        # Upload data to database\n",
    "        pdf.to_sql('cl_data', con=conn) \n",
    "    finally:\n",
    "        conn.close()\n",
    "        \n",
    "update_cl_data(pdf, 'cl_data', index_name='index')  # Update our table   "
   ]
  },
  {
   "cell_type": "code",
   "execution_count": 9,
   "metadata": {
    "ExecuteTime": {
     "end_time": "2017-10-10T21:42:41.413019Z",
     "start_time": "2017-10-10T21:42:39.146440Z"
    }
   },
   "outputs": [],
   "source": [
    "# Another way to read table\n",
    "# Slightly slowly than pandas \"read_sql_query\" function\n",
    "df_sql = pd.read_sql_table('cl_data', con=engine, index_col='index')"
   ]
  },
  {
   "cell_type": "code",
   "execution_count": 222,
   "metadata": {
    "ExecuteTime": {
     "end_time": "2017-10-11T19:57:46.474308Z",
     "start_time": "2017-10-11T19:57:44.920428Z"
    }
   },
   "outputs": [],
   "source": [
    "# Second way to read table\n",
    "# This uses pandas \"read_sql_query\" function\n",
    "df_query = data_from_table('cl_data', 'index')"
   ]
  },
  {
   "cell_type": "code",
   "execution_count": 226,
   "metadata": {
    "ExecuteTime": {
     "end_time": "2017-10-11T19:58:04.110246Z",
     "start_time": "2017-10-11T19:58:04.094646Z"
    }
   },
   "outputs": [
    {
     "data": {
      "text/html": [
       "<div>\n",
       "<style>\n",
       "    .dataframe thead tr:only-child th {\n",
       "        text-align: right;\n",
       "    }\n",
       "\n",
       "    .dataframe thead th {\n",
       "        text-align: left;\n",
       "    }\n",
       "\n",
       "    .dataframe tbody tr th {\n",
       "        vertical-align: top;\n",
       "    }\n",
       "</style>\n",
       "<table border=\"1\" class=\"dataframe\">\n",
       "  <thead>\n",
       "    <tr style=\"text-align: right;\">\n",
       "      <th></th>\n",
       "      <th>Date</th>\n",
       "      <th>Open</th>\n",
       "      <th>High</th>\n",
       "      <th>Low</th>\n",
       "      <th>Close</th>\n",
       "      <th>Volume</th>\n",
       "      <th>OpenInt</th>\n",
       "      <th>contract_name</th>\n",
       "    </tr>\n",
       "    <tr>\n",
       "      <th>index</th>\n",
       "      <th></th>\n",
       "      <th></th>\n",
       "      <th></th>\n",
       "      <th></th>\n",
       "      <th></th>\n",
       "      <th></th>\n",
       "      <th></th>\n",
       "      <th></th>\n",
       "    </tr>\n",
       "  </thead>\n",
       "  <tbody>\n",
       "    <tr>\n",
       "      <th>0</th>\n",
       "      <td>1983-03-30 00:00:00.000000</td>\n",
       "      <td>29.01</td>\n",
       "      <td>29.56</td>\n",
       "      <td>29.01</td>\n",
       "      <td>29.40</td>\n",
       "      <td>949</td>\n",
       "      <td>470</td>\n",
       "      <td>CL1983-06</td>\n",
       "    </tr>\n",
       "    <tr>\n",
       "      <th>1</th>\n",
       "      <td>1983-03-31 00:00:00.000000</td>\n",
       "      <td>29.40</td>\n",
       "      <td>29.60</td>\n",
       "      <td>29.25</td>\n",
       "      <td>29.29</td>\n",
       "      <td>521</td>\n",
       "      <td>523</td>\n",
       "      <td>CL1983-06</td>\n",
       "    </tr>\n",
       "    <tr>\n",
       "      <th>2</th>\n",
       "      <td>1983-04-04 00:00:00.000000</td>\n",
       "      <td>29.30</td>\n",
       "      <td>29.70</td>\n",
       "      <td>29.29</td>\n",
       "      <td>29.44</td>\n",
       "      <td>156</td>\n",
       "      <td>583</td>\n",
       "      <td>CL1983-06</td>\n",
       "    </tr>\n",
       "    <tr>\n",
       "      <th>3</th>\n",
       "      <td>1983-04-05 00:00:00.000000</td>\n",
       "      <td>29.50</td>\n",
       "      <td>29.80</td>\n",
       "      <td>29.50</td>\n",
       "      <td>29.71</td>\n",
       "      <td>175</td>\n",
       "      <td>623</td>\n",
       "      <td>CL1983-06</td>\n",
       "    </tr>\n",
       "    <tr>\n",
       "      <th>4</th>\n",
       "      <td>1983-04-06 00:00:00.000000</td>\n",
       "      <td>29.90</td>\n",
       "      <td>29.92</td>\n",
       "      <td>29.65</td>\n",
       "      <td>29.90</td>\n",
       "      <td>392</td>\n",
       "      <td>640</td>\n",
       "      <td>CL1983-06</td>\n",
       "    </tr>\n",
       "  </tbody>\n",
       "</table>\n",
       "</div>"
      ],
      "text/plain": [
       "                             Date  Open  High   Low  Close  Volume  OpenInt  \\\n",
       "index                                                                         \n",
       "0      1983-03-30 00:00:00.000000 29.01 29.56 29.01  29.40     949      470   \n",
       "1      1983-03-31 00:00:00.000000 29.40 29.60 29.25  29.29     521      523   \n",
       "2      1983-04-04 00:00:00.000000 29.30 29.70 29.29  29.44     156      583   \n",
       "3      1983-04-05 00:00:00.000000 29.50 29.80 29.50  29.71     175      623   \n",
       "4      1983-04-06 00:00:00.000000 29.90 29.92 29.65  29.90     392      640   \n",
       "\n",
       "      contract_name  \n",
       "index                \n",
       "0         CL1983-06  \n",
       "1         CL1983-06  \n",
       "2         CL1983-06  \n",
       "3         CL1983-06  \n",
       "4         CL1983-06  "
      ]
     },
     "execution_count": 226,
     "metadata": {},
     "output_type": "execute_result"
    }
   ],
   "source": [
    "# Make sure data has not been transformed in the upload and download from the database\n",
    "df_query.head()"
   ]
  },
  {
   "cell_type": "code",
   "execution_count": 227,
   "metadata": {
    "ExecuteTime": {
     "end_time": "2017-10-11T19:58:08.449801Z",
     "start_time": "2017-10-11T19:58:08.433948Z"
    }
   },
   "outputs": [
    {
     "data": {
      "text/plain": [
       "('1983-03-30 00:00:00.000000', str)"
      ]
     },
     "execution_count": 227,
     "metadata": {},
     "output_type": "execute_result"
    }
   ],
   "source": [
    "# Notice Sqlite didn't save the Date as a Datetime object and\n",
    "# instead is a string. Sad days\n",
    "dt_example = df_query['Date'].iloc[0]\n",
    "dt_example, type(dt_example)"
   ]
  },
  {
   "cell_type": "markdown",
   "metadata": {},
   "source": [
    "## Adding columns for data analysis\n",
    "\n",
    "We can split this table into more columns. This wil be useful to do grouping of our data to find trends. \n",
    "\n",
    "The following columns can be split into parts:\n",
    "   + Date: Year, Month, Day\n",
    "   + Contract name: Symbol, Year, Month"
   ]
  },
  {
   "cell_type": "code",
   "execution_count": 228,
   "metadata": {
    "ExecuteTime": {
     "end_time": "2017-10-11T19:58:20.332160Z",
     "start_time": "2017-10-11T19:58:18.982653Z"
    }
   },
   "outputs": [
    {
     "data": {
      "text/html": [
       "<div>\n",
       "<style>\n",
       "    .dataframe thead tr:only-child th {\n",
       "        text-align: right;\n",
       "    }\n",
       "\n",
       "    .dataframe thead th {\n",
       "        text-align: left;\n",
       "    }\n",
       "\n",
       "    .dataframe tbody tr th {\n",
       "        vertical-align: top;\n",
       "    }\n",
       "</style>\n",
       "<table border=\"1\" class=\"dataframe\">\n",
       "  <thead>\n",
       "    <tr style=\"text-align: right;\">\n",
       "      <th></th>\n",
       "      <th>Open</th>\n",
       "      <th>High</th>\n",
       "      <th>Low</th>\n",
       "      <th>Close</th>\n",
       "      <th>Volume</th>\n",
       "      <th>OpenInt</th>\n",
       "      <th>contract_name</th>\n",
       "      <th>year</th>\n",
       "      <th>month</th>\n",
       "      <th>day</th>\n",
       "    </tr>\n",
       "    <tr>\n",
       "      <th>index</th>\n",
       "      <th></th>\n",
       "      <th></th>\n",
       "      <th></th>\n",
       "      <th></th>\n",
       "      <th></th>\n",
       "      <th></th>\n",
       "      <th></th>\n",
       "      <th></th>\n",
       "      <th></th>\n",
       "      <th></th>\n",
       "    </tr>\n",
       "  </thead>\n",
       "  <tbody>\n",
       "    <tr>\n",
       "      <th>0</th>\n",
       "      <td>29.01</td>\n",
       "      <td>29.56</td>\n",
       "      <td>29.01</td>\n",
       "      <td>29.40</td>\n",
       "      <td>949</td>\n",
       "      <td>470</td>\n",
       "      <td>CL1983-06</td>\n",
       "      <td>1983</td>\n",
       "      <td>3</td>\n",
       "      <td>30</td>\n",
       "    </tr>\n",
       "    <tr>\n",
       "      <th>1</th>\n",
       "      <td>29.40</td>\n",
       "      <td>29.60</td>\n",
       "      <td>29.25</td>\n",
       "      <td>29.29</td>\n",
       "      <td>521</td>\n",
       "      <td>523</td>\n",
       "      <td>CL1983-06</td>\n",
       "      <td>1983</td>\n",
       "      <td>3</td>\n",
       "      <td>31</td>\n",
       "    </tr>\n",
       "  </tbody>\n",
       "</table>\n",
       "</div>"
      ],
      "text/plain": [
       "       Open  High   Low  Close  Volume  OpenInt contract_name  year  month  \\\n",
       "index                                                                        \n",
       "0     29.01 29.56 29.01  29.40     949      470     CL1983-06  1983      3   \n",
       "1     29.40 29.60 29.25  29.29     521      523     CL1983-06  1983      3   \n",
       "\n",
       "       day  \n",
       "index       \n",
       "0       30  \n",
       "1       31  "
      ]
     },
     "execution_count": 228,
     "metadata": {},
     "output_type": "execute_result"
    }
   ],
   "source": [
    "# Date: Year, Month, Day\n",
    "f = lambda x: x.split(' ')[0].split('-')\n",
    "df = pd.DataFrame(list(df_query['Date'].map(f)), \n",
    "                  columns=('year', 'month', 'day'))\n",
    "df['year'] = df['year'].map(int)\n",
    "df['month'] = df['month'].map(int)\n",
    "df['day'] = df['day'].map(int)\n",
    "pdf = pd.concat((df_query, df), axis=1).drop('Date', axis=1)\n",
    "pdf.head(2)"
   ]
  },
  {
   "cell_type": "code",
   "execution_count": 229,
   "metadata": {
    "ExecuteTime": {
     "end_time": "2017-10-11T19:58:41.167679Z",
     "start_time": "2017-10-11T19:58:40.567303Z"
    }
   },
   "outputs": [
    {
     "data": {
      "text/html": [
       "<div>\n",
       "<style>\n",
       "    .dataframe thead tr:only-child th {\n",
       "        text-align: right;\n",
       "    }\n",
       "\n",
       "    .dataframe thead th {\n",
       "        text-align: left;\n",
       "    }\n",
       "\n",
       "    .dataframe tbody tr th {\n",
       "        vertical-align: top;\n",
       "    }\n",
       "</style>\n",
       "<table border=\"1\" class=\"dataframe\">\n",
       "  <thead>\n",
       "    <tr style=\"text-align: right;\">\n",
       "      <th></th>\n",
       "      <th>Open</th>\n",
       "      <th>High</th>\n",
       "      <th>Low</th>\n",
       "      <th>Close</th>\n",
       "      <th>Volume</th>\n",
       "      <th>OpenInt</th>\n",
       "      <th>contract_name</th>\n",
       "      <th>year</th>\n",
       "      <th>month</th>\n",
       "      <th>day</th>\n",
       "      <th>contract_symbol</th>\n",
       "      <th>contract_year</th>\n",
       "      <th>contract_month</th>\n",
       "    </tr>\n",
       "    <tr>\n",
       "      <th>index</th>\n",
       "      <th></th>\n",
       "      <th></th>\n",
       "      <th></th>\n",
       "      <th></th>\n",
       "      <th></th>\n",
       "      <th></th>\n",
       "      <th></th>\n",
       "      <th></th>\n",
       "      <th></th>\n",
       "      <th></th>\n",
       "      <th></th>\n",
       "      <th></th>\n",
       "      <th></th>\n",
       "    </tr>\n",
       "  </thead>\n",
       "  <tbody>\n",
       "    <tr>\n",
       "      <th>0</th>\n",
       "      <td>29.01</td>\n",
       "      <td>29.56</td>\n",
       "      <td>29.01</td>\n",
       "      <td>29.40</td>\n",
       "      <td>949</td>\n",
       "      <td>470</td>\n",
       "      <td>CL1983-06</td>\n",
       "      <td>1983</td>\n",
       "      <td>3</td>\n",
       "      <td>30</td>\n",
       "      <td>CL</td>\n",
       "      <td>1983</td>\n",
       "      <td>6</td>\n",
       "    </tr>\n",
       "    <tr>\n",
       "      <th>1</th>\n",
       "      <td>29.40</td>\n",
       "      <td>29.60</td>\n",
       "      <td>29.25</td>\n",
       "      <td>29.29</td>\n",
       "      <td>521</td>\n",
       "      <td>523</td>\n",
       "      <td>CL1983-06</td>\n",
       "      <td>1983</td>\n",
       "      <td>3</td>\n",
       "      <td>31</td>\n",
       "      <td>CL</td>\n",
       "      <td>1983</td>\n",
       "      <td>6</td>\n",
       "    </tr>\n",
       "  </tbody>\n",
       "</table>\n",
       "</div>"
      ],
      "text/plain": [
       "       Open  High   Low  Close  Volume  OpenInt contract_name  year  month  \\\n",
       "index                                                                        \n",
       "0     29.01 29.56 29.01  29.40     949      470     CL1983-06  1983      3   \n",
       "1     29.40 29.60 29.25  29.29     521      523     CL1983-06  1983      3   \n",
       "\n",
       "       day contract_symbol  contract_year  contract_month  \n",
       "index                                                      \n",
       "0       30              CL           1983               6  \n",
       "1       31              CL           1983               6  "
      ]
     },
     "execution_count": 229,
     "metadata": {},
     "output_type": "execute_result"
    }
   ],
   "source": [
    "# Date: Year, Month, Day\n",
    "f = lambda x: (x[:2], int(x[2:6]), int(x[-2:]))\n",
    "df = pd.DataFrame(list(df_query['contract_name'].map(f)), \n",
    "                  columns=('contract_symbol', \n",
    "                           'contract_year', \n",
    "                           'contract_month'))\n",
    "more_columns_data = pd.concat((pdf, df), axis=1)\n",
    "more_columns_data.head(2)"
   ]
  },
  {
   "cell_type": "code",
   "execution_count": 230,
   "metadata": {
    "ExecuteTime": {
     "end_time": "2017-10-11T19:58:46.101877Z",
     "start_time": "2017-10-11T19:58:46.070624Z"
    }
   },
   "outputs": [
    {
     "data": {
      "text/html": [
       "<div>\n",
       "<style>\n",
       "    .dataframe thead tr:only-child th {\n",
       "        text-align: right;\n",
       "    }\n",
       "\n",
       "    .dataframe thead th {\n",
       "        text-align: left;\n",
       "    }\n",
       "\n",
       "    .dataframe tbody tr th {\n",
       "        vertical-align: top;\n",
       "    }\n",
       "</style>\n",
       "<table border=\"1\" class=\"dataframe\">\n",
       "  <thead>\n",
       "    <tr style=\"text-align: right;\">\n",
       "      <th></th>\n",
       "      <th>open</th>\n",
       "      <th>high</th>\n",
       "      <th>low</th>\n",
       "      <th>close</th>\n",
       "      <th>volume</th>\n",
       "      <th>openint</th>\n",
       "      <th>contract_name</th>\n",
       "      <th>year</th>\n",
       "      <th>month</th>\n",
       "      <th>day</th>\n",
       "      <th>contract_symbol</th>\n",
       "      <th>contract_year</th>\n",
       "      <th>contract_month</th>\n",
       "    </tr>\n",
       "    <tr>\n",
       "      <th>index</th>\n",
       "      <th></th>\n",
       "      <th></th>\n",
       "      <th></th>\n",
       "      <th></th>\n",
       "      <th></th>\n",
       "      <th></th>\n",
       "      <th></th>\n",
       "      <th></th>\n",
       "      <th></th>\n",
       "      <th></th>\n",
       "      <th></th>\n",
       "      <th></th>\n",
       "      <th></th>\n",
       "    </tr>\n",
       "  </thead>\n",
       "  <tbody>\n",
       "    <tr>\n",
       "      <th>0</th>\n",
       "      <td>29.01</td>\n",
       "      <td>29.56</td>\n",
       "      <td>29.01</td>\n",
       "      <td>29.40</td>\n",
       "      <td>949</td>\n",
       "      <td>470</td>\n",
       "      <td>CL1983-06</td>\n",
       "      <td>1983</td>\n",
       "      <td>3</td>\n",
       "      <td>30</td>\n",
       "      <td>CL</td>\n",
       "      <td>1983</td>\n",
       "      <td>6</td>\n",
       "    </tr>\n",
       "    <tr>\n",
       "      <th>1</th>\n",
       "      <td>29.40</td>\n",
       "      <td>29.60</td>\n",
       "      <td>29.25</td>\n",
       "      <td>29.29</td>\n",
       "      <td>521</td>\n",
       "      <td>523</td>\n",
       "      <td>CL1983-06</td>\n",
       "      <td>1983</td>\n",
       "      <td>3</td>\n",
       "      <td>31</td>\n",
       "      <td>CL</td>\n",
       "      <td>1983</td>\n",
       "      <td>6</td>\n",
       "    </tr>\n",
       "  </tbody>\n",
       "</table>\n",
       "</div>"
      ],
      "text/plain": [
       "       open  high   low  close  volume  openint contract_name  year  month  \\\n",
       "index                                                                        \n",
       "0     29.01 29.56 29.01  29.40     949      470     CL1983-06  1983      3   \n",
       "1     29.40 29.60 29.25  29.29     521      523     CL1983-06  1983      3   \n",
       "\n",
       "       day contract_symbol  contract_year  contract_month  \n",
       "index                                                      \n",
       "0       30              CL           1983               6  \n",
       "1       31              CL           1983               6  "
      ]
     },
     "execution_count": 230,
     "metadata": {},
     "output_type": "execute_result"
    }
   ],
   "source": [
    "# For the sake of consistency lets keep all the colun names in lowercase\n",
    "columns = list(map(lambda x: x.lower(), more_columns_data.columns))\n",
    "more_columns_data.columns = columns\n",
    "more_columns_data.head(2)"
   ]
  },
  {
   "cell_type": "code",
   "execution_count": 231,
   "metadata": {
    "ExecuteTime": {
     "end_time": "2017-10-11T19:58:49.250318Z",
     "start_time": "2017-10-11T19:58:49.219223Z"
    }
   },
   "outputs": [
    {
     "data": {
      "text/plain": [
       "open               float64\n",
       "high               float64\n",
       "low                float64\n",
       "close              float64\n",
       "volume               int64\n",
       "openint              int64\n",
       "contract_name       object\n",
       "year                 int64\n",
       "month                int64\n",
       "day                  int64\n",
       "contract_symbol     object\n",
       "contract_year        int64\n",
       "contract_month       int64\n",
       "dtype: object"
      ]
     },
     "execution_count": 231,
     "metadata": {},
     "output_type": "execute_result"
    }
   ],
   "source": [
    "# Make sure we have the expected datatypes\n",
    "more_columns_data.dtypes"
   ]
  },
  {
   "cell_type": "code",
   "execution_count": 235,
   "metadata": {
    "ExecuteTime": {
     "end_time": "2017-10-11T20:00:07.573015Z",
     "start_time": "2017-10-11T20:00:00.340022Z"
    }
   },
   "outputs": [],
   "source": [
    "# Finally upload new dataset to our database\n",
    "update_cl_data(more_columns_data, 'cl_data', 'index')"
   ]
  },
  {
   "cell_type": "code",
   "execution_count": 236,
   "metadata": {
    "ExecuteTime": {
     "end_time": "2017-10-11T20:00:13.613925Z",
     "start_time": "2017-10-11T20:00:11.274273Z"
    }
   },
   "outputs": [
    {
     "data": {
      "text/html": [
       "<div>\n",
       "<style>\n",
       "    .dataframe thead tr:only-child th {\n",
       "        text-align: right;\n",
       "    }\n",
       "\n",
       "    .dataframe thead th {\n",
       "        text-align: left;\n",
       "    }\n",
       "\n",
       "    .dataframe tbody tr th {\n",
       "        vertical-align: top;\n",
       "    }\n",
       "</style>\n",
       "<table border=\"1\" class=\"dataframe\">\n",
       "  <thead>\n",
       "    <tr style=\"text-align: right;\">\n",
       "      <th></th>\n",
       "      <th>open</th>\n",
       "      <th>high</th>\n",
       "      <th>low</th>\n",
       "      <th>close</th>\n",
       "      <th>volume</th>\n",
       "      <th>openint</th>\n",
       "      <th>contract_name</th>\n",
       "      <th>year</th>\n",
       "      <th>month</th>\n",
       "      <th>day</th>\n",
       "      <th>contract_symbol</th>\n",
       "      <th>contract_year</th>\n",
       "      <th>contract_month</th>\n",
       "    </tr>\n",
       "    <tr>\n",
       "      <th>index</th>\n",
       "      <th></th>\n",
       "      <th></th>\n",
       "      <th></th>\n",
       "      <th></th>\n",
       "      <th></th>\n",
       "      <th></th>\n",
       "      <th></th>\n",
       "      <th></th>\n",
       "      <th></th>\n",
       "      <th></th>\n",
       "      <th></th>\n",
       "      <th></th>\n",
       "      <th></th>\n",
       "    </tr>\n",
       "  </thead>\n",
       "  <tbody>\n",
       "    <tr>\n",
       "      <th>0</th>\n",
       "      <td>29.01</td>\n",
       "      <td>29.56</td>\n",
       "      <td>29.01</td>\n",
       "      <td>29.40</td>\n",
       "      <td>949</td>\n",
       "      <td>470</td>\n",
       "      <td>CL1983-06</td>\n",
       "      <td>1983</td>\n",
       "      <td>3</td>\n",
       "      <td>30</td>\n",
       "      <td>CL</td>\n",
       "      <td>1983</td>\n",
       "      <td>6</td>\n",
       "    </tr>\n",
       "    <tr>\n",
       "      <th>1</th>\n",
       "      <td>29.40</td>\n",
       "      <td>29.60</td>\n",
       "      <td>29.25</td>\n",
       "      <td>29.29</td>\n",
       "      <td>521</td>\n",
       "      <td>523</td>\n",
       "      <td>CL1983-06</td>\n",
       "      <td>1983</td>\n",
       "      <td>3</td>\n",
       "      <td>31</td>\n",
       "      <td>CL</td>\n",
       "      <td>1983</td>\n",
       "      <td>6</td>\n",
       "    </tr>\n",
       "    <tr>\n",
       "      <th>2</th>\n",
       "      <td>29.30</td>\n",
       "      <td>29.70</td>\n",
       "      <td>29.29</td>\n",
       "      <td>29.44</td>\n",
       "      <td>156</td>\n",
       "      <td>583</td>\n",
       "      <td>CL1983-06</td>\n",
       "      <td>1983</td>\n",
       "      <td>4</td>\n",
       "      <td>4</td>\n",
       "      <td>CL</td>\n",
       "      <td>1983</td>\n",
       "      <td>6</td>\n",
       "    </tr>\n",
       "    <tr>\n",
       "      <th>3</th>\n",
       "      <td>29.50</td>\n",
       "      <td>29.80</td>\n",
       "      <td>29.50</td>\n",
       "      <td>29.71</td>\n",
       "      <td>175</td>\n",
       "      <td>623</td>\n",
       "      <td>CL1983-06</td>\n",
       "      <td>1983</td>\n",
       "      <td>4</td>\n",
       "      <td>5</td>\n",
       "      <td>CL</td>\n",
       "      <td>1983</td>\n",
       "      <td>6</td>\n",
       "    </tr>\n",
       "    <tr>\n",
       "      <th>4</th>\n",
       "      <td>29.90</td>\n",
       "      <td>29.92</td>\n",
       "      <td>29.65</td>\n",
       "      <td>29.90</td>\n",
       "      <td>392</td>\n",
       "      <td>640</td>\n",
       "      <td>CL1983-06</td>\n",
       "      <td>1983</td>\n",
       "      <td>4</td>\n",
       "      <td>6</td>\n",
       "      <td>CL</td>\n",
       "      <td>1983</td>\n",
       "      <td>6</td>\n",
       "    </tr>\n",
       "  </tbody>\n",
       "</table>\n",
       "</div>"
      ],
      "text/plain": [
       "       open  high   low  close  volume  openint contract_name  year  month  \\\n",
       "index                                                                        \n",
       "0     29.01 29.56 29.01  29.40     949      470     CL1983-06  1983      3   \n",
       "1     29.40 29.60 29.25  29.29     521      523     CL1983-06  1983      3   \n",
       "2     29.30 29.70 29.29  29.44     156      583     CL1983-06  1983      4   \n",
       "3     29.50 29.80 29.50  29.71     175      623     CL1983-06  1983      4   \n",
       "4     29.90 29.92 29.65  29.90     392      640     CL1983-06  1983      4   \n",
       "\n",
       "       day contract_symbol  contract_year  contract_month  \n",
       "index                                                      \n",
       "0       30              CL           1983               6  \n",
       "1       31              CL           1983               6  \n",
       "2        4              CL           1983               6  \n",
       "3        5              CL           1983               6  \n",
       "4        6              CL           1983               6  "
      ]
     },
     "execution_count": 236,
     "metadata": {},
     "output_type": "execute_result"
    }
   ],
   "source": [
    "# Grab our data from the database again\n",
    "df_query = data_from_table('cl_data', 'index')\n",
    "df_query.head()"
   ]
  },
  {
   "cell_type": "code",
   "execution_count": 237,
   "metadata": {
    "ExecuteTime": {
     "end_time": "2017-10-11T20:00:17.382372Z",
     "start_time": "2017-10-11T20:00:17.351301Z"
    }
   },
   "outputs": [
    {
     "data": {
      "text/plain": [
       "open               float64\n",
       "high               float64\n",
       "low                float64\n",
       "close              float64\n",
       "volume               int64\n",
       "openint              int64\n",
       "contract_name       object\n",
       "year                 int64\n",
       "month                int64\n",
       "day                  int64\n",
       "contract_symbol     object\n",
       "contract_year        int64\n",
       "contract_month       int64\n",
       "dtype: object"
      ]
     },
     "execution_count": 237,
     "metadata": {},
     "output_type": "execute_result"
    }
   ],
   "source": [
    "# Make sure the data tyeps are coherent\n",
    "df_query.dtypes"
   ]
  }
 ],
 "metadata": {
  "kernelspec": {
   "display_name": "Python 3",
   "language": "python",
   "name": "python3"
  },
  "language_info": {
   "codemirror_mode": {
    "name": "ipython",
    "version": 3
   },
   "file_extension": ".py",
   "mimetype": "text/x-python",
   "name": "python",
   "nbconvert_exporter": "python",
   "pygments_lexer": "ipython3",
   "version": "3.6.3"
  },
  "toc": {
   "colors": {
    "hover_highlight": "#DAA520",
    "navigate_num": "#000000",
    "navigate_text": "#333333",
    "running_highlight": "#FF0000",
    "selected_highlight": "#FFD700",
    "sidebar_border": "#EEEEEE",
    "wrapper_background": "#FFFFFF"
   },
   "moveMenuLeft": true,
   "nav_menu": {
    "height": "30px",
    "width": "252px"
   },
   "navigate_menu": true,
   "number_sections": true,
   "sideBar": true,
   "threshold": 4,
   "toc_cell": false,
   "toc_section_display": "block",
   "toc_window_display": false,
   "widenNotebook": false
  },
  "varInspector": {
   "cols": {
    "lenName": 16,
    "lenType": 16,
    "lenVar": 40
   },
   "kernels_config": {
    "python": {
     "delete_cmd_postfix": "",
     "delete_cmd_prefix": "del ",
     "library": "var_list.py",
     "varRefreshCmd": "print(var_dic_list())"
    },
    "r": {
     "delete_cmd_postfix": ") ",
     "delete_cmd_prefix": "rm(",
     "library": "var_list.r",
     "varRefreshCmd": "cat(var_dic_list()) "
    }
   },
   "types_to_exclude": [
    "module",
    "function",
    "builtin_function_or_method",
    "instance",
    "_Feature"
   ],
   "window_display": false
  }
 },
 "nbformat": 4,
 "nbformat_minor": 2
}
